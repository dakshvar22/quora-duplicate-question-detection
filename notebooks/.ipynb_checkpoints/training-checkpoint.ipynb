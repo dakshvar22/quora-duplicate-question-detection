{
 "cells": [
  {
   "cell_type": "code",
   "execution_count": 1,
   "metadata": {
    "collapsed": false
   },
   "outputs": [
    {
     "name": "stderr",
     "output_type": "stream",
     "text": [
      "Using TensorFlow backend.\n"
     ]
    }
   ],
   "source": [
    "import sys\n",
    "sys.path.append('/home/jupyter/notebooks/src')\n",
    "\n",
    "from utils.data_generator import Data_Generator\n",
    "from utils.vocabulary import Vocabulary\n",
    "from models.dense_conv import Model\n",
    "import keras\n",
    "import os"
   ]
  },
  {
   "cell_type": "code",
   "execution_count": 2,
   "metadata": {
    "collapsed": false
   },
   "outputs": [],
   "source": [
    "# Data Paths\n",
    "train_file = '/home/jupyter/data/train.csv'\n",
    "test_file = '/home/jupyter/data/test.csv'\n",
    "complete_file = '/home/jupyter/data/cleaned.csv'\n",
    "glove_file = '/home/jupyter/data/vocab/glove.6B.100d.txt'\n",
    "max_nb_words = 200000\n",
    "exp_name = 'run103'\n",
    "model_dir = os.path.join('/home/jupyter/data/model_snapshots',exp_name)\n",
    "log_dir = os.path.join('/home/jupyter/tf-logs/',exp_name)\n",
    "\n",
    "os.makedirs(model_dir,exist_ok=True)\n",
    "os.makedirs(log_dir,exist_ok=True)"
   ]
  },
  {
   "cell_type": "code",
   "execution_count": 3,
   "metadata": {
    "collapsed": false
   },
   "outputs": [
    {
     "name": "stdout",
     "output_type": "stream",
     "text": [
      "Setup Vocab\n",
      "Loaded glove\n",
      "Loaded embedding matrix\n"
     ]
    }
   ],
   "source": [
    "vocab = Vocabulary()\n",
    "vocab.setup_corpus_vocabulary(complete_file,max_nb_words)\n",
    "print('Setup Vocab')\n",
    "vocab.load_glove_vocabulary(glove_file)\n",
    "print('Loaded glove')\n",
    "vocab.construct_embedding_matrix()\n",
    "print('Loaded embedding matrix')"
   ]
  },
  {
   "cell_type": "code",
   "execution_count": 4,
   "metadata": {
    "collapsed": false
   },
   "outputs": [
    {
     "name": "stderr",
     "output_type": "stream",
     "text": [
      "/home/jupyter/notebooks/src/models/dense_conv.py:65: UserWarning: The `Merge` layer is deprecated and will be removed after 08/2017. Use instead layers from `keras.layers.merge`, e.g. `add`, `concatenate`, etc.\n",
      "  merged = Merge(mode=lambda x: tf.stack([x[0],x[1],x[2],x[3]],axis=1), output_shape=lambda x: (x[0][0],1200))([q1_dense,q2_dense,q1_conv_out,q2_conv_out])\n"
     ]
    },
    {
     "name": "stdout",
     "output_type": "stream",
     "text": [
      "__________________________________________________________________________________________________\n",
      "Layer (type)                    Output Shape         Param #     Connected to                     \n",
      "==================================================================================================\n",
      "input_1 (InputLayer)            (None, None)         0                                            \n",
      "__________________________________________________________________________________________________\n",
      "input_2 (InputLayer)            (None, None)         0                                            \n",
      "__________________________________________________________________________________________________\n",
      "embedding_1 (Embedding)         (None, None, 100)    9101500     input_1[0][0]                    \n",
      "                                                                 input_2[0][0]                    \n",
      "                                                                 input_1[0][0]                    \n",
      "                                                                 input_2[0][0]                    \n",
      "__________________________________________________________________________________________________\n",
      "conv1d_1 (Conv1D)               (None, None, 64)     32064       embedding_1[0][0]                \n",
      "__________________________________________________________________________________________________\n",
      "conv1d_3 (Conv1D)               (None, None, 64)     32064       embedding_1[1][0]                \n",
      "__________________________________________________________________________________________________\n",
      "dropout_1 (Dropout)             (None, None, 64)     0           conv1d_1[0][0]                   \n",
      "__________________________________________________________________________________________________\n",
      "dropout_5 (Dropout)             (None, None, 64)     0           conv1d_3[0][0]                   \n",
      "__________________________________________________________________________________________________\n",
      "conv1d_2 (Conv1D)               (None, None, 64)     20544       dropout_1[0][0]                  \n",
      "__________________________________________________________________________________________________\n",
      "conv1d_4 (Conv1D)               (None, None, 64)     20544       dropout_5[0][0]                  \n",
      "__________________________________________________________________________________________________\n",
      "dropout_2 (Dropout)             (None, None, 64)     0           conv1d_2[0][0]                   \n",
      "__________________________________________________________________________________________________\n",
      "dropout_6 (Dropout)             (None, None, 64)     0           conv1d_4[0][0]                   \n",
      "__________________________________________________________________________________________________\n",
      "global_max_pooling1d_1 (GlobalM (None, 64)           0           dropout_2[0][0]                  \n",
      "__________________________________________________________________________________________________\n",
      "global_max_pooling1d_2 (GlobalM (None, 64)           0           dropout_6[0][0]                  \n",
      "__________________________________________________________________________________________________\n",
      "dropout_3 (Dropout)             (None, 64)           0           global_max_pooling1d_1[0][0]     \n",
      "__________________________________________________________________________________________________\n",
      "dropout_7 (Dropout)             (None, 64)           0           global_max_pooling1d_2[0][0]     \n",
      "__________________________________________________________________________________________________\n",
      "time_distributed_1 (TimeDistrib (None, None, 300)    30300       embedding_1[2][0]                \n",
      "__________________________________________________________________________________________________\n",
      "time_distributed_2 (TimeDistrib (None, None, 300)    30300       embedding_1[3][0]                \n",
      "__________________________________________________________________________________________________\n",
      "dense_3 (Dense)                 (None, 300)          19500       dropout_3[0][0]                  \n",
      "__________________________________________________________________________________________________\n",
      "dense_4 (Dense)                 (None, 300)          19500       dropout_7[0][0]                  \n",
      "__________________________________________________________________________________________________\n",
      "lambda_1 (Lambda)               (None, 300)          0           time_distributed_1[0][0]         \n",
      "__________________________________________________________________________________________________\n",
      "lambda_2 (Lambda)               (None, 300)          0           time_distributed_2[0][0]         \n",
      "__________________________________________________________________________________________________\n",
      "dropout_4 (Dropout)             (None, 300)          0           dense_3[0][0]                    \n",
      "__________________________________________________________________________________________________\n",
      "dropout_8 (Dropout)             (None, 300)          0           dense_4[0][0]                    \n",
      "__________________________________________________________________________________________________\n",
      "merge_1 (Merge)                 (None, 1200)         0           lambda_1[0][0]                   \n",
      "                                                                 lambda_2[0][0]                   \n",
      "                                                                 dropout_4[0][0]                  \n",
      "                                                                 dropout_8[0][0]                  \n",
      "__________________________________________________________________________________________________\n",
      "dense_5 (Dense)                 (None, 300)          360300      merge_1[0][0]                    \n",
      "__________________________________________________________________________________________________\n",
      "dropout_9 (Dropout)             (None, 300)          0           dense_5[0][0]                    \n",
      "__________________________________________________________________________________________________\n",
      "batch_normalization_1 (BatchNor (None, 300)          1200        dropout_9[0][0]                  \n",
      "__________________________________________________________________________________________________\n",
      "dense_6 (Dense)                 (None, 200)          60200       batch_normalization_1[0][0]      \n",
      "__________________________________________________________________________________________________\n",
      "dropout_10 (Dropout)            (None, 200)          0           dense_6[0][0]                    \n",
      "__________________________________________________________________________________________________\n",
      "batch_normalization_2 (BatchNor (None, 200)          800         dropout_10[0][0]                 \n",
      "__________________________________________________________________________________________________\n",
      "dense_7 (Dense)                 (None, 64)           12864       batch_normalization_2[0][0]      \n",
      "__________________________________________________________________________________________________\n",
      "dropout_11 (Dropout)            (None, 64)           0           dense_7[0][0]                    \n",
      "__________________________________________________________________________________________________\n",
      "batch_normalization_3 (BatchNor (None, 64)           256         dropout_11[0][0]                 \n",
      "__________________________________________________________________________________________________\n",
      "dense_8 (Dense)                 (None, 16)           1040        batch_normalization_3[0][0]      \n",
      "__________________________________________________________________________________________________\n",
      "dropout_12 (Dropout)            (None, 16)           0           dense_8[0][0]                    \n",
      "__________________________________________________________________________________________________\n",
      "dense_9 (Dense)                 (None, 1)            17          dropout_12[0][0]                 \n",
      "==================================================================================================\n",
      "Total params: 9,742,993\n",
      "Trainable params: 640,365\n",
      "Non-trainable params: 9,102,628\n",
      "__________________________________________________________________________________________________\n",
      "None\n"
     ]
    }
   ],
   "source": [
    "arch = Model(vocab)\n",
    "print(arch.model.summary())"
   ]
  },
  {
   "cell_type": "code",
   "execution_count": null,
   "metadata": {
    "collapsed": true
   },
   "outputs": [],
   "source": [
    "train_gen = Data_Generator(vocab,32,train_file)\n",
    "train_gen.load_data()\n",
    "test_gen = Data_Generator(vocab,32,test_file)\n",
    "test_gen.load_data()"
   ]
  },
  {
   "cell_type": "code",
   "execution_count": null,
   "metadata": {
    "collapsed": false
   },
   "outputs": [
    {
     "name": "stderr",
     "output_type": "stream",
     "text": [
      "/opt/conda/lib/python3.5/site-packages/keras/engine/training.py:2087: UserWarning: Using a generator with `use_multiprocessing=True` and multiple workers may duplicate your data. Please consider using the`keras.utils.Sequence class.\n",
      "  UserWarning('Using a generator with `use_multiprocessing=True`'\n"
     ]
    },
    {
     "name": "stdout",
     "output_type": "stream",
     "text": [
      "Epoch 1/20\n",
      "19994/20000 [============================>.] - ETA: 0s - loss: 0.5811 - acc: 0.6945"
     ]
    },
    {
     "name": "stderr",
     "output_type": "stream",
     "text": [
      "/opt/conda/lib/python3.5/site-packages/keras/engine/training.py:2330: UserWarning: Using a generator with `use_multiprocessing=True` and multiple workers may duplicate your data. Please consider using the`keras.utils.Sequence class.\n",
      "  UserWarning('Using a generator with `use_multiprocessing=True`'\n"
     ]
    },
    {
     "name": "stdout",
     "output_type": "stream",
     "text": [
      "20000/20000 [==============================] - 155s 8ms/step - loss: 0.5811 - acc: 0.6945 - val_loss: 0.5511 - val_acc: 0.7341\n",
      "Epoch 2/20\n",
      "20000/20000 [==============================] - 152s 8ms/step - loss: 0.5367 - acc: 0.7337 - val_loss: 0.5071 - val_acc: 0.7601\n",
      "Epoch 3/20\n",
      "20000/20000 [==============================] - 152s 8ms/step - loss: 0.5192 - acc: 0.7467 - val_loss: 0.5093 - val_acc: 0.7494\n",
      "Epoch 4/20\n",
      "20000/20000 [==============================] - 152s 8ms/step - loss: 0.5063 - acc: 0.7541 - val_loss: 0.5087 - val_acc: 0.7620\n",
      "Epoch 5/20\n",
      "20000/20000 [==============================] - 152s 8ms/step - loss: 0.4968 - acc: 0.7610 - val_loss: 0.4934 - val_acc: 0.7696\n",
      "Epoch 6/20\n",
      "20000/20000 [==============================] - 152s 8ms/step - loss: 0.4894 - acc: 0.7649 - val_loss: 0.4938 - val_acc: 0.7618\n",
      "Epoch 7/20\n",
      "18558/20000 [==========================>...] - ETA: 10s - loss: 0.4872 - acc: 0.7670"
     ]
    }
   ],
   "source": [
    "file_name = 'dense-conv'\n",
    "check_cb = keras.callbacks.ModelCheckpoint(os.path.join(model_dir,file_name + '.{epoch:02d}-{val_loss:.2f}-{val_acc:.2f}.hdf5'),\n",
    "                                   monitor='val_acc',\n",
    "                                   verbose=0, save_best_only=True, mode='max')\n",
    "tbCallback = keras.callbacks.TensorBoard(log_dir=log_dir, histogram_freq=0, write_graph=True, write_images=True)\n",
    "earlystop_cb = keras.callbacks.EarlyStopping(monitor='val_loss', patience=25, verbose=1, mode='auto')\n",
    "\n",
    "arch.model.fit_generator(generator = train_gen.gen_next(), steps_per_epoch=20000, epochs=20, verbose=1\n",
    "                         , callbacks=[check_cb,tbCallback]\n",
    "                         , validation_data=test_gen.gen_next(), validation_steps=500, max_queue_size=10\n",
    "                         , workers=3, use_multiprocessing=True, shuffle=True, initial_epoch=0)\n"
   ]
  },
  {
   "cell_type": "code",
   "execution_count": null,
   "metadata": {
    "collapsed": true
   },
   "outputs": [],
   "source": [
    "# Persist the vocabulary\n",
    "import pickle\n",
    "vocab_path = os.path.join(model_dir,'vocab.pickle')\n",
    "with open(vocab_path, 'wb') as handle:\n",
    "    pickle.dump(vocab.word_index, handle, protocol=pickle.HIGHEST_PROTOCOL)"
   ]
  },
  {
   "cell_type": "code",
   "execution_count": null,
   "metadata": {
    "collapsed": false
   },
   "outputs": [],
   "source": [
    "import json\n",
    "model_architecture = json.loads(arch.model.to_json())\n",
    "\n",
    "arch_path = os.path.join(model_dir,'arch.json')\n",
    "\n",
    "json.dump(open(arch_path,'w'),model_architecture,indent=4)"
   ]
  },
  {
   "cell_type": "code",
   "execution_count": null,
   "metadata": {
    "collapsed": true
   },
   "outputs": [],
   "source": []
  }
 ],
 "metadata": {
  "anaconda-cloud": {},
  "kernelspec": {
   "display_name": "Python [conda root]",
   "language": "python",
   "name": "conda-root-py"
  },
  "language_info": {
   "codemirror_mode": {
    "name": "ipython",
    "version": 3
   },
   "file_extension": ".py",
   "mimetype": "text/x-python",
   "name": "python",
   "nbconvert_exporter": "python",
   "pygments_lexer": "ipython3",
   "version": "3.5.2"
  }
 },
 "nbformat": 4,
 "nbformat_minor": 1
}
